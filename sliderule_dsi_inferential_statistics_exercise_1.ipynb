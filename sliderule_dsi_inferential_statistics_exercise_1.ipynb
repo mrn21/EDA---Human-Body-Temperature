{
 "cells": [
  {
   "cell_type": "markdown",
   "metadata": {},
   "source": [
    "# What is the True Normal Human Body Temperature? \n",
    "\n",
    "#### Background\n",
    "\n",
    "The mean normal body temperature was held to be 37$^{\\circ}$C or 98.6$^{\\circ}$F for more than 120 years since it was first conceptualized and reported by Carl Wunderlich in a famous 1868 book. But, is this value statistically correct?"
   ]
  },
  {
   "cell_type": "markdown",
   "metadata": {},
   "source": [
    "<h3>Exercises</h3>\n",
    "\n",
    "<p>In this exercise, you will analyze a dataset of human body temperatures and employ the concepts of hypothesis testing, confidence intervals, and statistical significance.</p>\n",
    "\n",
    "<p>Answer the following questions <b>in this notebook below and submit to your Github account</b>.</p> \n",
    "\n",
    "<ol>\n",
    "<li>  Is the distribution of body temperatures normal? \n",
    "    <ul>\n",
    "    <li> Although this is not a requirement for the Central Limit Theorem to hold (read the introduction on Wikipedia's page about the CLT carefully: https://en.wikipedia.org/wiki/Central_limit_theorem), it gives us some peace of mind that the population may also be normally distributed if we assume that this sample is representative of the population.\n",
    "    <li> Think about the way you're going to check for the normality of the distribution. Graphical methods are usually used first, but there are also other ways: https://en.wikipedia.org/wiki/Normality_test\n",
    "    </ul>\n",
    "<li>  Is the sample size large? Are the observations independent?\n",
    "    <ul>\n",
    "    <li> Remember that this is a condition for the Central Limit Theorem, and hence the statistical tests we are using, to apply.\n",
    "    </ul>\n",
    "<li>  Is the true population mean really 98.6 degrees F?\n",
    "    <ul>\n",
    "    <li> First, try a bootstrap hypothesis test.\n",
    "    <li> Now, let's try frequentist statistical testing. Would you use a one-sample or two-sample test? Why?\n",
    "    <li> In this situation, is it appropriate to use the $t$ or $z$ statistic? \n",
    "    <li> Now try using the other test. How is the result be different? Why?\n",
    "    </ul>\n",
    "<li>  Draw a small sample of size 10 from the data and repeat both frequentist tests. \n",
    "    <ul>\n",
    "    <li> Which one is the correct one to use? \n",
    "    <li> What do you notice? What does this tell you about the difference in application of the $t$ and $z$ statistic?\n",
    "    </ul>\n",
    "<li>  At what temperature should we consider someone's temperature to be \"abnormal\"?\n",
    "    <ul>\n",
    "    <li> As in the previous example, try calculating everything using the boostrap approach, as well as the frequentist approach.\n",
    "    <li> Start by computing the margin of error and confidence interval. When calculating the confidence interval, keep in mind that you should use the appropriate formula for one draw, and not N draws.\n",
    "    </ul>\n",
    "<li>  Is there a significant difference between males and females in normal temperature?\n",
    "    <ul>\n",
    "    <li> What testing approach did you use and why?\n",
    "    <li> Write a story with your conclusion in the context of the original problem.\n",
    "    </ul>\n",
    "</ol>\n",
    "\n",
    "You can include written notes in notebook cells using Markdown: \n",
    "   - In the control panel at the top, choose Cell > Cell Type > Markdown\n",
    "   - Markdown syntax: http://nestacms.com/docs/creating-content/markdown-cheat-sheet\n",
    "\n",
    "#### Resources\n",
    "\n",
    "+ Information and data sources: http://www.amstat.org/publications/jse/datasets/normtemp.txt, http://www.amstat.org/publications/jse/jse_data_archive.htm\n",
    "+ Markdown syntax: http://nestacms.com/docs/creating-content/markdown-cheat-sheet\n",
    "\n",
    "****"
   ]
  },
  {
   "cell_type": "code",
   "execution_count": 60,
   "metadata": {},
   "outputs": [
    {
     "data": {
      "text/html": [
       "<div>\n",
       "<style scoped>\n",
       "    .dataframe tbody tr th:only-of-type {\n",
       "        vertical-align: middle;\n",
       "    }\n",
       "\n",
       "    .dataframe tbody tr th {\n",
       "        vertical-align: top;\n",
       "    }\n",
       "\n",
       "    .dataframe thead th {\n",
       "        text-align: right;\n",
       "    }\n",
       "</style>\n",
       "<table border=\"1\" class=\"dataframe\">\n",
       "  <thead>\n",
       "    <tr style=\"text-align: right;\">\n",
       "      <th></th>\n",
       "      <th>temperature</th>\n",
       "      <th>gender</th>\n",
       "      <th>heart_rate</th>\n",
       "    </tr>\n",
       "  </thead>\n",
       "  <tbody>\n",
       "    <tr>\n",
       "      <th>0</th>\n",
       "      <td>99.3</td>\n",
       "      <td>F</td>\n",
       "      <td>68.0</td>\n",
       "    </tr>\n",
       "    <tr>\n",
       "      <th>1</th>\n",
       "      <td>98.4</td>\n",
       "      <td>F</td>\n",
       "      <td>81.0</td>\n",
       "    </tr>\n",
       "    <tr>\n",
       "      <th>2</th>\n",
       "      <td>97.8</td>\n",
       "      <td>M</td>\n",
       "      <td>73.0</td>\n",
       "    </tr>\n",
       "    <tr>\n",
       "      <th>3</th>\n",
       "      <td>99.2</td>\n",
       "      <td>F</td>\n",
       "      <td>66.0</td>\n",
       "    </tr>\n",
       "    <tr>\n",
       "      <th>4</th>\n",
       "      <td>98.0</td>\n",
       "      <td>F</td>\n",
       "      <td>73.0</td>\n",
       "    </tr>\n",
       "  </tbody>\n",
       "</table>\n",
       "</div>"
      ],
      "text/plain": [
       "   temperature gender  heart_rate\n",
       "0         99.3      F        68.0\n",
       "1         98.4      F        81.0\n",
       "2         97.8      M        73.0\n",
       "3         99.2      F        66.0\n",
       "4         98.0      F        73.0"
      ]
     },
     "execution_count": 60,
     "metadata": {},
     "output_type": "execute_result"
    }
   ],
   "source": [
    "import pandas as pd\n",
    "import numpy as np\n",
    "import matplotlib.pyplot as plt\n",
    "\n",
    "df = pd.read_csv('data/human_body_temperature.csv')\n",
    "df.head()"
   ]
  },
  {
   "cell_type": "code",
   "execution_count": 61,
   "metadata": {},
   "outputs": [
    {
     "data": {
      "text/plain": [
       "98.24923076923078"
      ]
     },
     "execution_count": 61,
     "metadata": {},
     "output_type": "execute_result"
    }
   ],
   "source": [
    "# Summary Statistics\n",
    "mean = df.temperature.mean()\n",
    "mean\n"
   ]
  },
  {
   "cell_type": "code",
   "execution_count": 62,
   "metadata": {},
   "outputs": [
    {
     "data": {
      "text/plain": [
       "0.7331831580389454"
      ]
     },
     "execution_count": 62,
     "metadata": {},
     "output_type": "execute_result"
    }
   ],
   "source": [
    "stddev = df.temperature.std()\n",
    "stddev"
   ]
  },
  {
   "cell_type": "code",
   "execution_count": 63,
   "metadata": {},
   "outputs": [
    {
     "data": {
      "text/plain": [
       "0.7303577789050377"
      ]
     },
     "execution_count": 63,
     "metadata": {},
     "output_type": "execute_result"
    }
   ],
   "source": [
    "s = np.std(df['temperature'])\n",
    "s"
   ]
  },
  {
   "cell_type": "code",
   "execution_count": 64,
   "metadata": {},
   "outputs": [
    {
     "data": {
      "text/plain": [
       "98.3"
      ]
     },
     "execution_count": 64,
     "metadata": {},
     "output_type": "execute_result"
    }
   ],
   "source": [
    "median = df.temperature.median()\n",
    "median"
   ]
  },
  {
   "cell_type": "code",
   "execution_count": 8,
   "metadata": {},
   "outputs": [
    {
     "data": {
      "text/plain": [
       "130"
      ]
     },
     "execution_count": 8,
     "metadata": {},
     "output_type": "execute_result"
    }
   ],
   "source": [
    "sample_size  =  len(df.temperature)\n",
    "sample_size"
   ]
  },
  {
   "cell_type": "code",
   "execution_count": 9,
   "metadata": {},
   "outputs": [],
   "source": [
    "# function for plotting CDF\n",
    "\n",
    "def ecdf(data):\n",
    "    \"\"\"Compute ECDF for a one-dimensional array of measurements.\"\"\"\n",
    "    # Number of data points: n\n",
    "    n = len(data)\n",
    "\n",
    "    # x-data for the ECDF: x\n",
    "    x = np.sort(data)\n",
    "\n",
    "    # y-data for the ECDF: y\n",
    "  \n",
    "    y = np.arange(1,n+1) / n\n",
    "    return x, y"
   ]
  },
  {
   "cell_type": "markdown",
   "metadata": {},
   "source": [
    "# 1.) Is the distribution of body temperatures normal?"
   ]
  },
  {
   "cell_type": "code",
   "execution_count": 10,
   "metadata": {},
   "outputs": [
    {
     "data": {
      "image/png": "[encoded data removed]",
      "text/plain": [
       "<Figure size 432x288 with 1 Axes>"
      ]
     },
     "metadata": {},
     "output_type": "display_data"
    }
   ],
   "source": [
    "plt.hist(df.temperature,density = True)\n",
    "\n",
    "ref_std_normal_dist = np.random.normal(mean , stddev , size = 10000)\n",
    "\n",
    "#plt.hist(ref_std_normal_dist, density = True,bins=100, histtype = 'step') \n",
    "\n",
    "bins = np.arange(95, max(ref_std_normal_dist) + 1.5) - 0.5\n",
    "plt.hist(ref_std_normal_dist, density = True,bins=bins, histtype = 'step') \n",
    "\n",
    "plt.show()"
   ]
  },
  {
   "cell_type": "code",
   "execution_count": 11,
   "metadata": {},
   "outputs": [
    {
     "data": {
      "image/png": "[encoded data removed]",
      "text/plain": [
       "<Figure size 432x288 with 1 Axes>"
      ]
     },
     "metadata": {},
     "output_type": "display_data"
    }
   ],
   "source": [
    "x, y = ecdf(df.temperature)\n",
    "plt.plot(x, y,marker = '.',linestyle = 'none')\n",
    "plt.show()"
   ]
  },
  {
   "cell_type": "markdown",
   "metadata": {},
   "source": [
    " Ans : From the pdf and cdf plotted above , it looks like the body temperature follows a ' normal distribution'"
   ]
  },
  {
   "cell_type": "markdown",
   "metadata": {},
   "source": [
    "# 2)Is the sample size large? Are the observations independent?"
   ]
  },
  {
   "cell_type": "markdown",
   "metadata": {},
   "source": [
    "The sample size is 130, which is a fairly large enough sample size, although it is preferred to have close to 1000 samples.\n",
    "The observations are independent"
   ]
  },
  {
   "cell_type": "markdown",
   "metadata": {},
   "source": [
    "# 3) Is the true population mean really 98.6 degrees F?\n",
    "First, try a bootstrap hypothesis test.\n",
    "Now, let's try frequentist statistical testing. Would you use a one-sample or two-sample test? Why?\n",
    "In this situation, is it appropriate to use the  tt  or  zz  statistic?\n",
    "Now try using the other test. How is the result be different? Why?"
   ]
  },
  {
   "cell_type": "code",
   "execution_count": 35,
   "metadata": {},
   "outputs": [
    {
     "name": "stdout",
     "output_type": "stream",
     "text": [
      "t-statistic : -5.475925202078116\n",
      "p-value     : 0.0\n"
     ]
    }
   ],
   "source": [
    "# Proposing  the Null hypothesis that the true population mean of temp is equal to the conventional mean which is   98.6 deg F. \n",
    "# In this situation, it is appropriate to use the t- statistic as the sample standard deviation is not known.\n",
    "\n",
    "\n",
    "conv_mean = 98.6\n",
    "temp_shift = df['temperature'] - mean + conv_mean\n",
    "\n",
    "\n",
    "# Define test statistic function\n",
    "def t_stat(data, conv_mean=98.6):\n",
    "   # Calculate t-stat\n",
    "    return (np.mean(data) - conv_mean) / (np.std(data) / np.sqrt(len(data)))\n",
    "\n",
    "\n",
    "#  t-stat for data\n",
    "t_obs = t_stat(df['temperature'], conv_mean)\n",
    "\n",
    "\n",
    "\n",
    "#  bootstrap replicate\n",
    "def bootstrap_replicate_1d(data, func):\n",
    "    return func(np.random.choice(data, size=len(data)))\n",
    "\n",
    "def draw_bs_reps(data, func, size=1):\n",
    "    # Draw a number of bootstrap replicates.\n",
    "    bs_replicates = np.empty(size)\n",
    "    for i in range(size):\n",
    "        bs_replicates[i] = bootstrap_replicate_1d(data, func)\n",
    "    return bs_replicates\n",
    "\n",
    "\n",
    "# Check the null hypothesis by bootstrapping the shifted data\n",
    "bs_t_reps = draw_bs_reps(temp_shifted, t_stat, size=10000)\n",
    "\n",
    "\n",
    "# Compute the p-value\n",
    "p_t_value = np.sum(np.abs(bs_t_reps) >= np.abs(t_obs)) / len(bs_t_reps)\n",
    "\n",
    "\n",
    "print('t-statistic :', t_obs)\n",
    "print('p-value     :', p_t_value)"
   ]
  },
  {
   "cell_type": "markdown",
   "metadata": {},
   "source": [
    "t-statistic is -5.476.\n",
    "And  p-value of '0' indicates that in 10,000 trials, not even a  single trial produced a sample mean as extreme as the observed sample mean.So the null hypothesis that the true population mean is 98.6 F can rejected."
   ]
  },
  {
   "cell_type": "code",
   "execution_count": 26,
   "metadata": {},
   "outputs": [
    {
     "name": "stdout",
     "output_type": "stream",
     "text": [
      "z-stats: -5.475925202078116\n",
      "p-value: 0.0\n"
     ]
    }
   ],
   "source": [
    "# Trying out the z-statistic as well\n",
    "\n",
    "def z_stat(data, conv_mean=98.6, stddev=0.7331831580389454):\n",
    "    return (np.mean(data) - conv_mean) / (s / np.sqrt(len(data)))\n",
    "\n",
    "\n",
    "# Compute test statistic for data\n",
    "z_obs = z_stat(df['temperature'], conv_mean) \n",
    "\n",
    "\n",
    "# Simulate data acquisition under the null hypothesis by bootstrapping the shifted data\n",
    "bs_z_reps = draw_bs_reps(temp_shift, z_stat, size=10000)\n",
    "\n",
    "\n",
    "# Compute p-value\n",
    "p_z_value = np.sum(np.abs(bs_z_reps) >= np.abs(z_obs)) / len(bs_z_reps)\n",
    "\n",
    "\n",
    "print('z-stats:', z_obs)\n",
    "print('p-value:', (p_z_value))"
   ]
  },
  {
   "cell_type": "markdown",
   "metadata": {},
   "source": [
    "It can be seen that the z-stat and  t-stat are the same. This behaviour is as expected as when the large sample size gets bigger  t-statistic approaches  z-statistic."
   ]
  },
  {
   "cell_type": "markdown",
   "metadata": {},
   "source": [
    "# 4) Draw a small sample of size 10 from the data and repeat both frequentist tests.\n",
    "Which one is the correct one to use?\n",
    "What do you notice?\n",
    "What does this tell you about the difference in application of the  tt  and  zz  statistic?"
   ]
  },
  {
   "cell_type": "code",
   "execution_count": 46,
   "metadata": {},
   "outputs": [
    {
     "name": "stdout",
     "output_type": "stream",
     "text": [
      "[97.59 99.39 98.79 98.79 98.19 98.99 98.99 99.09 99.89 96.29]\n",
      "t-statistic for n=10: 0.03256620723125386\n",
      "p-value:  0.9774\n",
      "\n",
      "z-statistic for n=10: 0.04329765152780919\n",
      "p-value: 0.9874\n"
     ]
    }
   ],
   "source": [
    "# Draw a sample size of 10\n",
    "sample = np.random.choice(df['temperature'], size=10)\n",
    "\n",
    "# shift in  sample\n",
    "\n",
    "shift_sample = sample - np.mean(sample) + conv_mean \n",
    "print(shift_sample)\n",
    "\n",
    "# t-stat\n",
    "t_obs_sample = t_stat(sample)\n",
    "\n",
    "#  bootstrap reps\n",
    "bs_t_reps_sample = draw_bs_reps(shift_sample, t_stat, size=10000)\n",
    "\n",
    "# p-value\n",
    "p_t_value_sample = np.sum(np.abs(bs_t_reps_sample) >= np.abs(t_obs_sample)) / len(bs_t_reps_sample)\n",
    "\n",
    "print('t-statistic for n=10:', t_obs_sample)\n",
    "print('p-value: ', p_t_value_sample)\n",
    "print('')\n",
    "\n",
    "\n",
    "# Compute z-statistic\n",
    "z_obs_sample = z_stat(sample)\n",
    "# Draw bootstrap reps\n",
    "bs_z_reps_sample = draw_bs_reps(shift_sample, z_stat, size=10000)\n",
    "# Compute the p-value\n",
    "p_z_value_sample = np.sum(np.abs(bs_z_reps_sample) >= np.abs(z_obs_sample)) / len(bs_z_reps_sample)\n",
    "\n",
    "print('z-statistic for n=10:', z_obs_sample)\n",
    "print('p-value:',p_z_value_sample)\n",
    "\n"
   ]
  },
  {
   "cell_type": "markdown",
   "metadata": {},
   "source": [
    "No significant observation can be drawn from this( though I would have expected  the t-stat to be significant as the sample size is less than 10), from my results I cannot draw any inference!!!"
   ]
  },
  {
   "cell_type": "markdown",
   "metadata": {},
   "source": [
    "# 5 ) At what temperature should we consider someone's temperature to be \"abnormal\"?\n",
    "As in the previous example, try calculating everything using the boostrap approach, as well as the frequentist approach.\n",
    "Start by computing the margin of error and confidence interval. When calculating the confidence interval, keep in mind that you should use the appropriate formula for one draw, and not N draws."
   ]
  },
  {
   "cell_type": "code",
   "execution_count": 79,
   "metadata": {},
   "outputs": [
    {
     "name": "stdout",
     "output_type": "stream",
     "text": [
      "Margin Error 0.125550964802579\n",
      "Confidence Interval  @ 95% [96.7225 99.4775]\n",
      "Abnormal Temperature Range is out side the range  98.37478173403336 and 98.12367980442819\n"
     ]
    }
   ],
   "source": [
    "# Z- Score at 95% confidence interval is  1.96\n",
    "Z_score = 1.96\n",
    "#Standard Error  = standard deviation/ Sq.rt of n(sample size)\n",
    "std_err = s/np.sqrt(sample_size)\n",
    "\n",
    "#Margin of Error\n",
    "\n",
    "margin_error =  1.96* s/np.sqrt(sample_size)\n",
    "print('Margin Error',margin_error)\n",
    "\n",
    "# Confidence Interval @ 95%\n",
    "\n",
    "confidence_int = np.percentile(df['temperature'], [2.5, 97.5])\n",
    "print('Confidence Interval  @ 95%',confidence_int)\n",
    "\n",
    "# Abnormal Temperature Range = +/- Z_score*std_err\n",
    "\n",
    "Temp_range = 1.96 * std_err\n",
    "print(\"Abnormal Temperature Range is out side the range \", mean+Temp_range,'and',mean-Temp_range)\n"
   ]
  },
  {
   "cell_type": "markdown",
   "metadata": {},
   "source": [
    "# 6) Is there a significant difference between males and females in normal temperature?\n",
    "What testing approach did you use and why?\n",
    "Write a story with your conclusion in the context of the original problem."
   ]
  },
  {
   "cell_type": "code",
   "execution_count": 74,
   "metadata": {},
   "outputs": [
    {
     "name": "stdout",
     "output_type": "stream",
     "text": [
      "observed difference: 0.289230769230727 deg. F\n",
      "p-value: 0.0272\n"
     ]
    }
   ],
   "source": [
    "male = df[df.gender == 'M']\n",
    "female = df[df.gender == 'F']\n",
    "\n",
    "# Lets start with the NULL hypothesis that the distributions of temperatures for males and females are identical.\n",
    "\n",
    "# define function to calculate  'difference of means.\n",
    "\n",
    "def diff_of_means(data_1, data_2):\n",
    "    return np.mean(data_1) - np.mean(data_2)\n",
    "\n",
    "# Observed data\n",
    "diff_obs = diff_of_means(female.temperature,male.temperature)\n",
    "\n",
    "# permutation replicates\n",
    "perm_reps = np.empty(10000)\n",
    "for i in range(len(perm_reps)):\n",
    "    common = np.concatenate((male.temperature, female.temperature))\n",
    "    common_perm = np.random.permutation(common)\n",
    "    perm_rep_fem = common_perm[: len(female)]\n",
    "    perm_rep_male = common_perm[len(female):]\n",
    "    perm_reps[i] = diff_of_means(perm_rep_fem,perm_rep_male)  \n",
    "    \n",
    "# Compute p-value\n",
    "p_value = np.sum(abs(perm_reps) >= abs(diff_obs)) / len(perm_reps)\n",
    "\n",
    "print('observed difference:',diff_obs, 'deg. F' )\n",
    "print('p-value:',p_value)"
   ]
  },
  {
   "cell_type": "markdown",
   "metadata": {},
   "source": [
    "Since the p value is less than 0.05, the hypothesis that  distributions of temperatures for males and females are identical is rejected. There is a significant difference between the distribution of male and female temperatures.\n",
    "\n",
    "It also can be concluded as per this analysis  the mean human temperature is not 98.6 F. This value is not statistically accurate. Statistically, he mean human body temperature to be 98.2 +/- 0.13$^{\\circ}$F (to a 95% confidence interval). Additionally, we discovered a statistically significant difference between male and female temperatures of approximately 0.29$^{\\circ}$F. Females tend to have warmer body temperatures and males tend to have cooler body temperatures."
   ]
  }
 ],
 "metadata": {
  "kernelspec": {
   "display_name": "Python 3",
   "language": "python",
   "name": "python3"
  },
  "language_info": {
   "codemirror_mode": {
    "name": "ipython",
    "version": 3
   },
   "file_extension": ".py",
   "mimetype": "text/x-python",
   "name": "python",
   "nbconvert_exporter": "python",
   "pygments_lexer": "ipython3",
   "version": "3.6.5"
  }
 },
 "nbformat": 4,
 "nbformat_minor": 1
}
